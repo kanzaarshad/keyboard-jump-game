{
  "nbformat": 4,
  "nbformat_minor": 0,
  "metadata": {
    "colab": {
      "provenance": []
    },
    "kernelspec": {
      "name": "python3",
      "display_name": "Python 3"
    },
    "language_info": {
      "name": "python"
    }
  },
  "cells": [
    {
      "cell_type": "code",
      "source": [
        "import pygame\n",
        "import sys\n",
        "\n",
        "# Initialize Pygame\n",
        "pygame.init()\n",
        "\n",
        "# Constants\n",
        "WIDTH = 600\n",
        "HEIGHT = 400\n",
        "WHITE = (255, 255, 255)\n",
        "BLACK = (0, 0, 0)\n",
        "BLUE = (0, 0, 255)\n",
        "\n",
        "# Player variables\n",
        "player_width = 40\n",
        "player_height = 40\n",
        "player_x = WIDTH // 2 - player_width // 2\n",
        "player_y = HEIGHT - player_height\n",
        "player_vel = 5\n",
        "jump_height = 10\n",
        "is_jump = False\n",
        "jump_count = jump_height\n",
        "\n",
        "# Create the window\n",
        "window = pygame.display.set_mode((WIDTH, HEIGHT))\n",
        "pygame.display.set_caption(\"Keyboard Jump Game\")\n",
        "\n",
        "clock = pygame.time.Clock()\n",
        "\n",
        "def draw_player():\n",
        "    pygame.draw.rect(window, BLUE, (player_x, player_y, player_width, player_height))\n",
        "\n",
        "def move_player(keys):\n",
        "    global player_x, player_y, is_jump, jump_count\n",
        "\n",
        "    if keys[pygame.K_LEFT] and player_x > player_vel:\n",
        "        player_x -= player_vel\n",
        "    if keys[pygame.K_RIGHT] and player_x < WIDTH - player_width - player_vel:\n",
        "        player_x += player_vel\n",
        "\n",
        "    if not is_jump:\n",
        "        if keys[pygame.K_SPACE]:\n",
        "            is_jump = True\n",
        "    else:\n",
        "        if jump_count >= -jump_height:\n",
        "            neg = 1\n",
        "            if jump_count < 0:\n",
        "                neg = -1\n",
        "            player_y -= (jump_count ** 2) * 0.5 * neg\n",
        "            jump_count -= 1\n",
        "        else:\n",
        "            is_jump = False\n",
        "            jump_count = jump_height\n",
        "\n",
        "def main():\n",
        "    global is_jump\n",
        "    running = True\n",
        "    while running:\n",
        "        window.fill(WHITE)\n",
        "        for event in pygame.event.get():\n",
        "            if event.type == pygame.QUIT:\n",
        "                running = False\n",
        "\n",
        "        keys = pygame.key.get_pressed()\n",
        "        move_player(keys)\n",
        "        draw_player()\n",
        "        pygame.display.update()\n",
        "        clock.tick(30)\n",
        "    pygame.quit()\n",
        "    sys.exit()\n",
        "\n",
        "if __name__ == \"__main__\":\n",
        "    main()\n"
      ],
      "metadata": {
        "id": "GDuAur45Fluo"
      },
      "execution_count": null,
      "outputs": []
    },
    {
      "cell_type": "code",
      "source": [],
      "metadata": {
        "id": "FwUA28ACHczY"
      },
      "execution_count": null,
      "outputs": []
    }
  ]
}